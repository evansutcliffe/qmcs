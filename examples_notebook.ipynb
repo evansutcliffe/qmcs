{
 "cells": [
  {
   "cell_type": "markdown",
   "metadata": {},
   "source": [
    "# QMCS notebook\n",
    "QMCS is a package to perform monte Carlo analysis of quantum networks. Specifically it focuses on the distribution multipartite GHZ state, however, the simulations can also be used for the two user case.\n",
    "We use model network topologies as graph. As such topologies are considered as networkx graphs. \n",
    "A default 6x6 grid topology is assumed."
   ]
  },
  {
   "cell_type": "code",
   "execution_count": null,
   "metadata": {},
   "outputs": [],
   "source": [
    "import matplotlib.pyplot as plt\n",
    "import networkx as nx\n",
    "graph = nx.grid_2d_graph(6,6) \n",
    "plt.figure(figsize = (4,4))\n",
    "nx.draw(graph,\n",
    "        with_labels=True,\n",
    "        pos = {(x, y): (y, x) for x, y in graph.nodes()})\n",
    "plt.show()"
   ]
  },
  {
   "cell_type": "code",
   "execution_count": null,
   "metadata": {},
   "outputs": [],
   "source": [
    "from qmcs.src.simulation_helpers import add_default_network_attributes,get_best_source_and_star,steiner_tree,centroid_grid\n",
    "from qmcs.src.plotting_helpers import plot_graph_routing_solution\n",
    "# example of star and tree single-path routing \n",
    "add_default_network_attributes(graph)\n",
    "users = [(3,5),(3,1),(4,4),(1,1)]\n",
    "source_node, routing_solution_star, _ = get_best_source_and_star(\n",
    "            graph =graph,\n",
    "            users = users,\n",
    "            weight=\"p_edge_log\",\n",
    "            source_node_first_guess=centroid_grid(users),\n",
    "        )\n",
    "# Note that it can be more efficent for a user to operate as the centre node!\n",
    "plot_graph_routing_solution(graph=graph,\n",
    "                            routing_solution = routing_solution_star,\n",
    "                            users = users,\n",
    "                            source = source_node)\n",
    "\n",
    "routing_solution_tree = steiner_tree(graph,users,weight = 'p_edge_log')\n",
    "plot_graph_routing_solution(graph=graph,\n",
    "                            routing_solution = routing_solution_tree,\n",
    "                            users = users,\n",
    "                            source = None)"
   ]
  },
  {
   "cell_type": "markdown",
   "metadata": {},
   "source": [
    "Multi-path routing uses a similar approach, but attempts routing with the dynamic link-state graph G'. This is the set of edges that hold a Bell state during a given timeslot.\\\n",
    "for example, in a graph in which edges are generated with probability 0.7, and have edge-weight 1, we can look at random instances of G' to see if routing is possible"
   ]
  },
  {
   "cell_type": "code",
   "execution_count": null,
   "metadata": {},
   "outputs": [],
   "source": [
    "import random\n",
    "# Multi-path routing uses a similar approach, but attempts routing with the dynamic link-state graph G'\n",
    "# This is the set of edges that hold a Bell state during a given timeslot\n",
    "# for example, in a graph in which edges are generated with probability 0.7, and have edge-weight 1\n",
    "graph_prime = nx.Graph()\n",
    "graph_prime.add_edges_from([(u,v,{'weight':1}) for (u,v) in graph.edges() if random.random()<0.7])\n",
    "if set(users) <= set(nx.node_connected_component(graph_prime,users[0])):\n",
    "    print(\"solution found\")\n",
    "    routing_solution_tree = steiner_tree(graph_prime,users,weight = 'weight',method = 'pcst')\n",
    "    plot_graph_routing_solution(graph=graph_prime,\n",
    "                                routing_solution = routing_solution_tree,\n",
    "                                users = users,\n",
    "                                source = None)\n",
    "else:\n",
    "    print('no solution')\n",
    "# Example is for large p and one timeslot of generation\n",
    "# we generally consider when p << 1 and many rounds of  Bell state generation (edge in G') are required\n",
    "# we also assume an edge will be discarded after 'Qc' timeslots"
   ]
  },
  {
   "cell_type": "markdown",
   "metadata": {},
   "source": [
    "We can run a (short-ish) simulation, of the four protocols (sp-s, sp-t, mp-s, mp-t).\\\n",
    " Default network assumptions are p =0.1 6x6 grid topology, and w, Delta taken from the paper. We consider a memory cutoff for values swept over qc in [1,20]. Results are averaged over 30 sets (S_reps) of users S which require a GHZ state. Each set consisting of four |S|=4 randomly selected nodes from the graph"
   ]
  },
  {
   "cell_type": "code",
   "execution_count": null,
   "metadata": {},
   "outputs": [],
   "source": [
    "import os\n",
    "import random\n",
    "\n",
    "from qmcs.src.scatter_script import setup_args_scatter,default_params\n",
    "from qmcs.src.plotting_script import plot_scatter_data\n",
    "from qmcs.src.simulate import run_experiment\n",
    "from qmcs.src.simulate import random_string\n",
    "\n",
    "sim_params = default_params()\n",
    "sim_params['str_id']  = random_string()\n",
    "sim_params['experiment_name'] = \"scatter\"\n",
    "sim_params['timesteps'] =100\n",
    "sim_params['reps'] =30\n",
    "sim_params['S_reps'] =30\n",
    "for key,value in sim_params.items():\n",
    "    print(key,value)\n",
    "    \n",
    "args_list,sim_params = setup_args_scatter(sim_params = sim_params)\n",
    "random.shuffle(args_list)  # randomise dorder just to makes timing estimate more accurate\n",
    "run_experiment(args_list, sim_params,save_dir=os.getcwd()+\"//results\")\n",
    "plot_scatter_data(fig_str=sim_params['str_id'], save_figure=True,save_dir = os.getcwd()+\"//figures\")"
   ]
  },
  {
   "cell_type": "markdown",
   "metadata": {},
   "source": [
    "We can extract some features of the routing solutions selected. E.g. the number of edges, and age of edges in the routing solution. These features can be used to describe why GHZ states are distributed at a given fidelity"
   ]
  },
  {
   "cell_type": "code",
   "execution_count": null,
   "metadata": {},
   "outputs": [],
   "source": [
    "from qmcs.src.plotting_script import plot_scatter_other\n",
    "str_id = sim_params['str_id'] \n",
    "for data_y in ['tree_sizes','tau_data']:\n",
    "    plot_scatter_other(fig_str=str_id,\n",
    "                    save_dir= os.getcwd()+\"//figures\",\n",
    "                    x_param ='rate',\n",
    "                    y_param = data_y)\n"
   ]
  },
  {
   "cell_type": "markdown",
   "metadata": {},
   "source": [
    "We can consider the distribution rate achieved by the protocols with increasing distance between the users. We do this by putting four users in the corners of an MxM grid graph and simulating the distribution rate for increasing M. For this we assume p=0.5 and require the average GHZ fidelity > 2/3. For each distance we optimise Q_c such that the GHZ states are distributed with the maximum distribution rate while achieving above this min fidelity requirement."
   ]
  },
  {
   "cell_type": "code",
   "execution_count": null,
   "metadata": {},
   "outputs": [],
   "source": [
    "from qmcs.src.plotting_helpers import random_string\n",
    "import os\n",
    "import numpy as np\n",
    "from qmcs.src.distance_script import run_distance_results\n",
    "from qmcs.src.plotting_script import plot_distance_data\n",
    "import numpy as np\n",
    "\n",
    "sim_params = {\"timesteps\": 100, \"reps\": 30, \"S\": 4, \"S_reps\": 1}\n",
    "sim_params[\"p_edge\"] = 0.5\n",
    "sim_params['funcs'] =['sp-s','sp-t','mp-s','mp-t']\n",
    "sim_params['distance'] = np.arange(3,8)\n",
    "sim_params['average_f_min'] = 2/3\n",
    " # f_min for average GHZ state fidelity in distance figure \n",
    " # To set min fidelity of each GHZ state, set ('f_min')\n",
    "sim_params['qc_max'] = 20\n",
    "sim_params['str_id'] = random_string()\n",
    "\n",
    "sim_params['experiment_name'] = 'distance'\n",
    "run_distance_results(sim_params =sim_params, nice_plots = False)\n",
    "plot_distance_data(sim_params['str_id'],\n",
    "                save_figure=True,\n",
    "                save_dir = os.getcwd()+\"//figures\",\n",
    "                fig_axis = {'x':[3,7],'y':[1e-3,1]})"
   ]
  }
 ],
 "metadata": {
  "kernelspec": {
   "display_name": "venv",
   "language": "python",
   "name": "python3"
  },
  "language_info": {
   "codemirror_mode": {
    "name": "ipython",
    "version": 3
   },
   "file_extension": ".py",
   "mimetype": "text/x-python",
   "name": "python",
   "nbconvert_exporter": "python",
   "pygments_lexer": "ipython3",
   "version": "3.10.12"
  }
 },
 "nbformat": 4,
 "nbformat_minor": 2
}
